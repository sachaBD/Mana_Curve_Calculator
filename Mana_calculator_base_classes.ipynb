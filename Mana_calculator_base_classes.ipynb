{
 "cells": [
  {
   "cell_type": "code",
   "execution_count": 1,
   "metadata": {},
   "outputs": [],
   "source": [
    "# Currently working on:\n",
    "# check if mana pool contains mana\n",
    "# how to check playing multiple spells in a turn with over lapping error"
   ]
  },
  {
   "cell_type": "code",
   "execution_count": 2,
   "metadata": {},
   "outputs": [],
   "source": [
    "import numpy as np\n",
    "import pandas as pd\n",
    "import matplotlib as plt"
   ]
  },
  {
   "cell_type": "code",
   "execution_count": 3,
   "metadata": {},
   "outputs": [],
   "source": [
    "from collections import Counter\n",
    "from collections.abc import Iterable"
   ]
  },
  {
   "cell_type": "code",
   "execution_count": 4,
   "metadata": {},
   "outputs": [],
   "source": [
    "from typing import List\n",
    "from abc import ABC"
   ]
  },
  {
   "cell_type": "code",
   "execution_count": 134,
   "metadata": {},
   "outputs": [],
   "source": [
    "from random import choice, shuffle"
   ]
  },
  {
   "cell_type": "code",
   "execution_count": 135,
   "metadata": {},
   "outputs": [
    {
     "data": {
      "text/plain": [
       "{'B'}"
      ]
     },
     "execution_count": 135,
     "metadata": {},
     "output_type": "execute_result"
    }
   ],
   "source": [
    "a = set(['W' , 'G'])\n",
    "b = set(['W', 'G', 'B'])\n",
    "a.symmetric_difference(b)"
   ]
  },
  {
   "cell_type": "code",
   "execution_count": 136,
   "metadata": {},
   "outputs": [],
   "source": [
    "import re"
   ]
  },
  {
   "cell_type": "code",
   "execution_count": 137,
   "metadata": {},
   "outputs": [
    {
     "data": {
      "text/plain": [
       "['WG', 'U', 'BW', 'G', 'G']"
      ]
     },
     "execution_count": 137,
     "metadata": {},
     "output_type": "execute_result"
    }
   ],
   "source": [
    "string = 'W/GUB/WGG'\n",
    "colours = []\n",
    "\n",
    "i = 0\n",
    "while i < len(string) - 1:\n",
    "    if string[i + 1] == '/':\n",
    "        colours += [string[i] + string[i+2]]\n",
    "        i += 3\n",
    "    else:\n",
    "        colours += [string[i]]\n",
    "        i += 1\n",
    "\n",
    "if string[-2] != '/':\n",
    "    colours += [string[-1]]\n",
    "        \n",
    "colours"
   ]
  },
  {
   "cell_type": "code",
   "execution_count": 138,
   "metadata": {},
   "outputs": [
    {
     "data": {
      "text/plain": [
       "({'g', 'w'}, {'g', 'w'})"
      ]
     },
     "execution_count": 138,
     "metadata": {},
     "output_type": "execute_result"
    }
   ],
   "source": [
    "gw = set('gw')\n",
    "w = set('wg')\n",
    "\n",
    "gw.intersection(w), w.intersection(gw)"
   ]
  },
  {
   "cell_type": "code",
   "execution_count": 139,
   "metadata": {},
   "outputs": [],
   "source": [
    "valid_mana_symbols = set([x for x in 'WGUBRC/'])\n",
    "\n",
    "class Mana():\n",
    "    \"\"\"\n",
    "    5 colours - WGUBR\n",
    "    C - colourless\n",
    "    todo: add duel mana types\n",
    "    \n",
    "    colour: a single char or G/W that represents 1 mana symbol\n",
    "    \"\"\"\n",
    "    def __init__(self, colour: str):\n",
    "        if not set([x for x in colour]).issubset(valid_mana_symbols):\n",
    "            raise ValueError('Invalid colour')\n",
    "            \n",
    "        if len(colour) != 1 + colour.count('/') * 2:\n",
    "            raise ValueError('Invalid Mana')\n",
    "            \n",
    "        if len(colour) == 1:\n",
    "            self.type = colour\n",
    "        else:\n",
    "            self.type = ''.join(colour.split('/'))\n",
    "            \n",
    "    def __eq__(self, other):\n",
    "        if isinstance(other, Mana):\n",
    "            if other.type == 'C':\n",
    "                return True\n",
    "            elif set(self.type).intersection(set(other.type)):\n",
    "                return True\n",
    "                \n",
    "        return False\n",
    "    \n",
    "    def __hash__(self):\n",
    "        return hash(self.type)\n",
    "    \n",
    "    def __repr__(self):\n",
    "        return 'Mana(' + str('/'.join([x for x in self.type])) + ')'\n",
    "    \n",
    "\n",
    "class ManaPool():\n",
    "    \n",
    "    def __init__(self):\n",
    "        self.mana = Counter()\n",
    "        \n",
    "    def add_mana(self, mana_str: List[Mana]):\n",
    "        if isinstance(mana_str, str):\n",
    "            if len(mana_str) < 3:\n",
    "                self.mana += Counter([Mana(x) for x in mana_str])\n",
    "                return\n",
    "            \n",
    "            mana = []\n",
    "            i = 0\n",
    "            while i < len(mana_str) - 1:\n",
    "                if mana_str[i + 1] == '/':\n",
    "                    mana += [mana_str[i:i+3]]\n",
    "                    i += 3\n",
    "                else:\n",
    "                    mana += [mana_str[i]]\n",
    "                    i += 1\n",
    "\n",
    "            if mana_str[-2] != '/':\n",
    "                mana += [mana_str[-1]]\n",
    "            \n",
    "            # Convert to mana objects\n",
    "            for i, m in enumerate(mana):\n",
    "                mana[i] = Mana(m)\n",
    "            \n",
    "            self.mana += Counter(mana)\n",
    "            \n",
    "        elif isinstance(mana_str, Iterable):\n",
    "            # Convert to mana objects\n",
    "            for i, m in enumerate(mana):\n",
    "                if isinstance(m, str):\n",
    "                    mana[i] = Mana(m)\n",
    "                else:\n",
    "                    mana[i] = m\n",
    "                \n",
    "            self.mana += Counter(mana)\n",
    "        \n",
    "        elif isinstance(mana_str, Mana):\n",
    "            self.mana += Counter([mana_str])\n",
    "        \n",
    "        else:\n",
    "            raise ValueError('Invalid mana representation')\n",
    "        \n",
    "    def remove_mana(self, mana_str: List[Mana]):\n",
    "        if isinstance(mana_str, str):\n",
    "            if len(mana_str) < 3:\n",
    "                self.mana -= Counter([Mana(x) for x in mana_str])\n",
    "                return\n",
    "            \n",
    "            mana = []\n",
    "            i = 0\n",
    "            while i < len(mana_str) - 1:\n",
    "                if mana_str[i + 1] == '/':\n",
    "                    mana += [mana_str[i:i+3]]\n",
    "                    i += 3\n",
    "                else:\n",
    "                    mana += [mana_str[i]]\n",
    "                    i += 1\n",
    "\n",
    "            if mana_str[-2] != '/':\n",
    "                mana += [mana_str[-1]]\n",
    "            \n",
    "            # Convert to mana objects\n",
    "            for i, m in enumerate(mana):\n",
    "                mana[i] = Mana(m)\n",
    "            \n",
    "            self.mana -= Counter(mana)\n",
    "            \n",
    "        elif isinstance(mana_str, Iterable):\n",
    "            # Convert to mana objects\n",
    "            for i, m in enumerate(mana):\n",
    "                mana[i] = Mana(m)\n",
    "                \n",
    "            self.mana -= Counter(mana_str)\n",
    "            \n",
    "        elif isinstance(mana_str, Mana):\n",
    "            self.mana += Counter([mana_str])\n",
    "        \n",
    "        else:\n",
    "            raise ValueError('Invalid mana representation')\n",
    "        \n",
    "    def clear(self):\n",
    "        self.mana.clear()\n",
    "        \n",
    "    def __iadd__(self, mana):\n",
    "        self.add_mana(mana)\n",
    "        return self\n",
    "        \n",
    "    def __isub__(self, mana):\n",
    "        self.remove_mana(mana)\n",
    "        return self\n",
    "        \n",
    "    def __contains__(self, mana):\n",
    "        return mana in self.mana\n",
    "    \n",
    "    def __repr__(self):\n",
    "        res = \"ManaPool(\"\n",
    "        \n",
    "        for mana, amount in self.mana.items():\n",
    "            res += str(mana) + \": \" + str(amount) + \", \"\n",
    "        \n",
    "        if len(self.mana) > 0:\n",
    "            res = res[:-2]\n",
    "        \n",
    "        return res + ')'"
   ]
  },
  {
   "cell_type": "code",
   "execution_count": 288,
   "metadata": {},
   "outputs": [],
   "source": [
    "class Card():\n",
    "    def __init__(self, cost: Counter):\n",
    "        if cost != None:\n",
    "            self.cost = Counter(cost)\n",
    "        else:\n",
    "            self.cost = None\n",
    "            \n",
    "        self.tapped = False\n",
    "\n",
    "    def tap(self):\n",
    "        self.tapped = True\n",
    "        \n",
    "    def untap(self):\n",
    "        self.tapped = False\n",
    "        \n",
    "    def etb(self):\n",
    "        pass\n",
    "        \n",
    "    def is_playable(self,  available_mana: ManaPool):\n",
    "        return self.cost in available_mana\n",
    "    \n",
    "    def __repr__(self):\n",
    "        return 'Card (' + str(self.cost) + ')'\n",
    "    \n",
    "class ManaDork(Card):\n",
    "    def __init__(self, cost, creates):\n",
    "        self.creates = creates\n",
    "        \n",
    "    def tap(self):\n",
    "        return Mana(self.creates)\n",
    "    \n",
    "    \n",
    "class Explore(Card):\n",
    "    def __init__(self, cost, num):\n",
    "        pass\n",
    "    \n",
    "    def etb(self):\n",
    "        pass\n",
    "    \n",
    "class Surveil(Card):\n",
    "    def __init__(self):\n",
    "        pass\n",
    "    \n",
    "class Draw():\n",
    "    def __init__(self, cost, num):\n",
    "        pass\n",
    "        \n",
    "        \n",
    "class Board():\n",
    "    pass\n",
    "\n",
    "class Deck():\n",
    "    def __init__(self):\n",
    "        self.deck = []\n",
    "    \n",
    "    def __iadd__(self, cards):\n",
    "        self.deck += cards\n",
    "        shuffle(self.deck)\n",
    "        return self\n",
    "        \n",
    "    def draw(self):\n",
    "        return self.deck.pop()\n",
    "    \n",
    "    def __len__(self):\n",
    "        return len(self.deck)\n",
    "    \n",
    "class Hand():\n",
    "    pass"
   ]
  },
  {
   "cell_type": "code",
   "execution_count": 312,
   "metadata": {},
   "outputs": [],
   "source": [
    "basic_lands_types = {'G': 'Forest', 'W': 'Plains', 'U': 'Island', 'B': 'Swamp', 'R': 'Mountain', 'C': 'Wastes'}\n",
    "\n",
    "class Land(ABC, Card):\n",
    "    \n",
    "    def __init__(self, colours: List[Mana]):\n",
    "        self.colours = colours\n",
    "        self.types = []\n",
    "        \n",
    "        # TODO: Add a cannot instantiate clause here\n",
    "        super().__init__([])\n",
    "        \n",
    "    def is_type(self, land_type):\n",
    "        return land_type in self.types\n",
    "        \n",
    "    def __eq__(self, other):\n",
    "        if isinstance(other, Land):\n",
    "            return set(self.colours) == set(other.colours)\n",
    "\n",
    "        return False\n",
    "\n",
    "    def tap(self):\n",
    "        return Mana('/'.join([c for c in self.colours]))\n",
    "#         return NotImplemented()\n",
    "    \n",
    "    def __repr__(self):\n",
    "        return NotImplemented()\n",
    "    \n",
    "    \n",
    "class BasicLand(Land):\n",
    "    def __init__(self, colour: str):\n",
    "        if len(colour) > 1:\n",
    "            raise ValueError('Basics can only produce 1 type')\n",
    "        \n",
    "        super().__init__([colour])\n",
    "        \n",
    "        self.types += [basic_lands_types[colour]]\n",
    "    \n",
    "    def __repr__(self):\n",
    "        return 'BasicLand(' + self.colours[0] + ')'\n",
    "    \n",
    "    def __eq__(self, other):\n",
    "        if isinstance(other, BasicLand):\n",
    "            return set(self.colours) == set(other.colours)\n",
    "        \n",
    "        return False\n",
    "        \n",
    "        \n",
    "class CheckLand(Land):\n",
    "    \n",
    "    def __init__(self, colours: List[Mana]):\n",
    "        super().__init__(colours)\n",
    "        \n",
    "        self.tapped = True\n",
    "                \n",
    "    def etb(self, currentLands: List[Land]):\n",
    "        # Maybe expand this is a loop?\n",
    "        if any(any([land.is_type(basic_lands_types[colour]) for colour in self.colours]) for land in lands):\n",
    "            self.tapped = False    \n",
    "            \n",
    "    def __repr__(self):\n",
    "        return \"CheckLand(\" + ''.join(self.colours) + \")\"\n",
    "            \n",
    "    def __eq__(self):\n",
    "        if isinstance(other, CheckLand):\n",
    "            return set(self.colours) == set(other.colours)\n",
    "        \n",
    "        return False\n",
    "        \n",
    "        \n",
    "class ShockLand(Land):\n",
    "    \n",
    "    def __init__(self, colours: List[Mana]):\n",
    "        super().__init__(colours)\n",
    "        \n",
    "        self.types += [basic_lands_types[c] for c in colours]\n",
    "        \n",
    "    def __eq__(self, other):\n",
    "        if isinstance(other, ShockLand):\n",
    "            if set(self.colours) == set(other.colour):\n",
    "                return True\n",
    "            \n",
    "        return False\n",
    "    \n",
    "    def __repr__(self):\n",
    "        return 'ShockLand(' + ''.join(self.colours) + \")\""
   ]
  },
  {
   "cell_type": "markdown",
   "metadata": {},
   "source": [
    "## Class Testing"
   ]
  },
  {
   "cell_type": "markdown",
   "metadata": {},
   "source": [
    "### Test mana"
   ]
  },
  {
   "cell_type": "code",
   "execution_count": 313,
   "metadata": {},
   "outputs": [],
   "source": [
    "# Check mana types\n",
    "Mana('G')\n",
    "Mana('G/W')\n",
    "Mana('G/W/U')\n",
    "\n",
    "# Check colours are equal\n",
    "white_mana = Mana('W')\n",
    "assert white_mana == Mana('W')\n",
    "\n",
    "# Check colours are not equal\n",
    "green_mana = Mana('G')\n",
    "assert white_mana != green_mana\n",
    "\n",
    "colourless_mana = Mana('C')\n",
    "# Check colourless is colourless\n",
    "assert colourless_mana == Mana('C')\n",
    "# Check coloured is colourless\n",
    "assert Mana('G') == Mana('C')\n",
    "# Check colourless is not coloured\n",
    "assert colourless_mana != Mana('G')\n",
    "\n",
    "try:\n",
    "    mana = Mana('Q')\n",
    "except ValueError as e:\n",
    "    assert str(e) == 'Invalid colour'\n",
    "    \n",
    "# Check that G/W mana is G or W\n",
    "green_or_white_mana = Mana('G/W')\n",
    "blue_mana = Mana('U')\n",
    "assert green_or_white_mana == green_mana\n",
    "assert green_mana == green_or_white_mana\n",
    "assert green_or_white_mana == colourless_mana\n",
    "assert colourless_mana != green_or_white_mana\n",
    "assert green_or_white_mana != blue_mana\n",
    "\n",
    "# Check G/W mana is U/G\n",
    "green_or_blue_mana = Mana('G/U')\n",
    "assert green_or_white_mana == green_or_blue_mana\n",
    "assert green_or_blue_mana == green_or_white_mana"
   ]
  },
  {
   "cell_type": "markdown",
   "metadata": {},
   "source": [
    "### Mana Pool Testing"
   ]
  },
  {
   "cell_type": "code",
   "execution_count": 314,
   "metadata": {},
   "outputs": [],
   "source": [
    "mana_pool = ManaPool()\n",
    "mana_pool += 'WWBU'\n",
    "assert str(mana_pool) == 'ManaPool(Mana(W): 2, Mana(B): 1, Mana(U): 1)'\n",
    "mana_pool += 'G'\n",
    "assert str(mana_pool) == 'ManaPool(Mana(W): 2, Mana(B): 1, Mana(U): 1, Mana(G): 1)'\n",
    "mana_pool.add_mana('GGB')\n",
    "assert str(mana_pool) == 'ManaPool(Mana(W): 2, Mana(B): 2, Mana(U): 1, Mana(G): 3)'\n",
    "mana_pool -= 'GW'\n",
    "assert str(mana_pool) == 'ManaPool(Mana(W): 1, Mana(B): 2, Mana(U): 1, Mana(G): 2)'\n",
    "mana_pool.remove_mana('WU')\n",
    "assert str(mana_pool) == 'ManaPool(Mana(B): 2, Mana(G): 2)'\n",
    "mana_pool.add_mana('G/W')\n",
    "assert str(mana_pool) == 'ManaPool(Mana(B): 2, Mana(G): 2, Mana(G/W): 1)'\n",
    "# mana_pool.clear()\n",
    "# assert str(mana_pool) == 'ManaPool()'"
   ]
  },
  {
   "cell_type": "code",
   "execution_count": 315,
   "metadata": {},
   "outputs": [
    {
     "name": "stdout",
     "output_type": "stream",
     "text": [
      "ManaPool(Mana(B): 2, Mana(G): 2, Mana(G/W): 1)\n"
     ]
    },
    {
     "data": {
      "text/plain": [
       "1"
      ]
     },
     "execution_count": 315,
     "metadata": {},
     "output_type": "execute_result"
    }
   ],
   "source": [
    "print(mana_pool)\n",
    "mana_pool.mana.get(Mana('G/W'), 'None')"
   ]
  },
  {
   "cell_type": "markdown",
   "metadata": {},
   "source": [
    "### Test Lands"
   ]
  },
  {
   "cell_type": "code",
   "execution_count": 316,
   "metadata": {},
   "outputs": [],
   "source": [
    "plains = BasicLand('W')\n",
    "assert plains.tap() == Mana('W')\n",
    "\n",
    "# Test each colour\n",
    "for colour in 'WGBUR':\n",
    "    basic = BasicLand(colour)\n",
    "    assert basic.tap() == Mana(colour)\n",
    "\n",
    "# Test colourless\n",
    "basic = BasicLand('C')\n",
    "assert basic.tap() == colourless_mana\n",
    "\n",
    "# Test invalid basic\n",
    "try:\n",
    "    basic = BasicLand('WG')\n",
    "except ValueError as e:\n",
    "    assert str(e) == 'Basics can only produce 1 type'\n",
    "    \n",
    "# Test check land\n",
    "lands = []\n",
    "sunpetal_grove = CheckLand('GW')\n",
    "sunpetal_grove.etb(lands)\n",
    "assert sunpetal_grove.tap() == green_or_white_mana\n",
    "assert sunpetal_grove.tap() == green_mana\n",
    "assert sunpetal_grove.tap() == white_mana\n",
    "assert sunpetal_grove.tapped == True\n",
    "\n",
    "# With correct basic in play\n",
    "lands = [plains]\n",
    "sunpetal_grove = CheckLand('GW')\n",
    "sunpetal_grove.etb(lands)\n",
    "assert sunpetal_grove.tap() == green_or_white_mana\n",
    "assert sunpetal_grove.tap() == green_mana\n",
    "assert sunpetal_grove.tap() == white_mana\n",
    "assert sunpetal_grove.tapped == False\n",
    "\n",
    "# Test shock land\n",
    "temple_garden = ShockLand('GW')\n",
    "temple_garden.etb()\n",
    "assert temple_garden.tap() == green_or_white_mana\n",
    "assert temple_garden.tap() == green_mana\n",
    "assert temple_garden.tap() == white_mana\n",
    "assert temple_garden.tapped == False\n",
    "\n",
    "# Check + shock untapped check\n",
    "lands = [temple_garden]\n",
    "rootbound_crag = CheckLand('GR')\n",
    "rootbound_crag.etb(lands)\n",
    "green_or_red_mana = Mana('R/G')\n",
    "red_mana = Mana('R')\n",
    "assert rootbound_crag.tap() == green_or_red_mana\n",
    "assert rootbound_crag.tap() == green_or_white_mana\n",
    "assert rootbound_crag.tap() == green_mana\n",
    "assert rootbound_crag.tap() == red_mana\n",
    "assert rootbound_crag.tap() != white_mana\n",
    "assert rootbound_crag.tapped == False"
   ]
  },
  {
   "cell_type": "markdown",
   "metadata": {},
   "source": [
    "### Mana pool from lands"
   ]
  },
  {
   "cell_type": "code",
   "execution_count": 317,
   "metadata": {},
   "outputs": [
    {
     "data": {
      "text/plain": [
       "ManaPool(Mana(G/W): 2)"
      ]
     },
     "execution_count": 317,
     "metadata": {},
     "output_type": "execute_result"
    }
   ],
   "source": [
    "lands = [temple_garden, sunpetal_grove]\n",
    "mana_pool = ManaPool()\n",
    "\n",
    "for land in lands:\n",
    "    mana_pool += land.tap()\n",
    "    \n",
    "mana_pool"
   ]
  },
  {
   "cell_type": "markdown",
   "metadata": {},
   "source": [
    "## Deck"
   ]
  },
  {
   "cell_type": "code",
   "execution_count": 318,
   "metadata": {},
   "outputs": [],
   "source": [
    "deck = Deck()"
   ]
  },
  {
   "cell_type": "code",
   "execution_count": 319,
   "metadata": {},
   "outputs": [],
   "source": [
    "deck += [BasicLand('G')] * 24\n",
    "deck += [Card(None)] * 32\n",
    "deck += [Card([Mana('G')])] * 4\n",
    "\n",
    "assert len(deck) >= 60"
   ]
  },
  {
   "cell_type": "code",
   "execution_count": 327,
   "metadata": {},
   "outputs": [
    {
     "name": "stdout",
     "output_type": "stream",
     "text": [
      "[BasicLand(G), Card (None), BasicLand(G), Card (Counter({Mana(G): 1})), Card (None), Card (None), BasicLand(G)]\n",
      "[BasicLand(G), Card (None), BasicLand(G), Card (Counter({Mana(G): 1})), Card (None), Card (None), BasicLand(G), Card (None)]\n",
      "BasicLand(G)\n",
      "[BasicLand(G)]\n",
      "[Mana(G)]\n",
      "\n"
     ]
    }
   ],
   "source": [
    "hand = []\n",
    "lands = []\n",
    "mana_pool = ManaPool()\n",
    "\n",
    "# Draw a hand\n",
    "for i in range(0, 7):\n",
    "    hand += [deck.draw()]\n",
    "print(hand)\n",
    "    \n",
    "for turn in range(0, 1):\n",
    "    # draw\n",
    "    hand += [deck.draw()]\n",
    "    print(hand)\n",
    "    \n",
    "    # play a land\n",
    "    for card in hand:\n",
    "        if isinstance(card, Land):\n",
    "            print(card)\n",
    "            lands.append(card)\n",
    "            hand.remove(card)\n",
    "            break\n",
    "    print(lands)\n",
    "    \n",
    "    # Check if can cast any spells\n",
    "    mana_pool = [land.tap() for land in lands]\n",
    "    print(mana_pool)\n",
    "    \n",
    "    for card in hand:\n",
    "        if card.cost in mana_pool:\n",
    "            print(card, '!!!')\n",
    "    \n",
    "    # End turn\n",
    "    mana_pool.clear()\n",
    "    print()"
   ]
  },
  {
   "cell_type": "code",
   "execution_count": 321,
   "metadata": {},
   "outputs": [
    {
     "data": {
      "text/plain": [
       "[Card (None), Card (None), Card (None), Card (None), Card (None)]"
      ]
     },
     "execution_count": 321,
     "metadata": {},
     "output_type": "execute_result"
    }
   ],
   "source": [
    "hand"
   ]
  },
  {
   "cell_type": "code",
   "execution_count": 331,
   "metadata": {},
   "outputs": [
    {
     "ename": "TypeError",
     "evalue": "unhashable type: 'Counter'",
     "output_type": "error",
     "traceback": [
      "\u001b[1;31m---------------------------------------------------------------------------\u001b[0m",
      "\u001b[1;31mTypeError\u001b[0m                                 Traceback (most recent call last)",
      "\u001b[1;32m<ipython-input-331-5353ca9fc033>\u001b[0m in \u001b[0;36m<module>\u001b[1;34m()\u001b[0m\n\u001b[0;32m      2\u001b[0m \u001b[0mmana_pool\u001b[0m \u001b[1;33m=\u001b[0m \u001b[0mManaPool\u001b[0m\u001b[1;33m(\u001b[0m\u001b[1;33m)\u001b[0m\u001b[1;33m\u001b[0m\u001b[0m\n\u001b[0;32m      3\u001b[0m \u001b[0mmana_pool\u001b[0m \u001b[1;33m+=\u001b[0m \u001b[1;34m'G'\u001b[0m\u001b[1;33m\u001b[0m\u001b[0m\n\u001b[1;32m----> 4\u001b[1;33m \u001b[0mprint\u001b[0m\u001b[1;33m(\u001b[0m\u001b[0mcard\u001b[0m\u001b[1;33m,\u001b[0m \u001b[0mmana_pool\u001b[0m\u001b[1;33m,\u001b[0m \u001b[0mcard\u001b[0m\u001b[1;33m.\u001b[0m\u001b[0mis_playable\u001b[0m\u001b[1;33m(\u001b[0m\u001b[0mmana_pool\u001b[0m\u001b[1;33m)\u001b[0m\u001b[1;33m)\u001b[0m\u001b[1;33m\u001b[0m\u001b[0m\n\u001b[0m",
      "\u001b[1;32m<ipython-input-288-e18a0f396a3e>\u001b[0m in \u001b[0;36mis_playable\u001b[1;34m(self, available_mana)\u001b[0m\n\u001b[0;32m     18\u001b[0m \u001b[1;33m\u001b[0m\u001b[0m\n\u001b[0;32m     19\u001b[0m     \u001b[1;32mdef\u001b[0m \u001b[0mis_playable\u001b[0m\u001b[1;33m(\u001b[0m\u001b[0mself\u001b[0m\u001b[1;33m,\u001b[0m  \u001b[0mavailable_mana\u001b[0m\u001b[1;33m:\u001b[0m \u001b[0mManaPool\u001b[0m\u001b[1;33m)\u001b[0m\u001b[1;33m:\u001b[0m\u001b[1;33m\u001b[0m\u001b[0m\n\u001b[1;32m---> 20\u001b[1;33m         \u001b[1;32mreturn\u001b[0m \u001b[0mself\u001b[0m\u001b[1;33m.\u001b[0m\u001b[0mcost\u001b[0m \u001b[1;32min\u001b[0m \u001b[0mavailable_mana\u001b[0m\u001b[1;33m\u001b[0m\u001b[0m\n\u001b[0m\u001b[0;32m     21\u001b[0m \u001b[1;33m\u001b[0m\u001b[0m\n\u001b[0;32m     22\u001b[0m     \u001b[1;32mdef\u001b[0m \u001b[0m__repr__\u001b[0m\u001b[1;33m(\u001b[0m\u001b[0mself\u001b[0m\u001b[1;33m)\u001b[0m\u001b[1;33m:\u001b[0m\u001b[1;33m\u001b[0m\u001b[0m\n",
      "\u001b[1;32m<ipython-input-139-adead2431d6f>\u001b[0m in \u001b[0;36m__contains__\u001b[1;34m(self, mana)\u001b[0m\n\u001b[0;32m    133\u001b[0m \u001b[1;33m\u001b[0m\u001b[0m\n\u001b[0;32m    134\u001b[0m     \u001b[1;32mdef\u001b[0m \u001b[0m__contains__\u001b[0m\u001b[1;33m(\u001b[0m\u001b[0mself\u001b[0m\u001b[1;33m,\u001b[0m \u001b[0mmana\u001b[0m\u001b[1;33m)\u001b[0m\u001b[1;33m:\u001b[0m\u001b[1;33m\u001b[0m\u001b[0m\n\u001b[1;32m--> 135\u001b[1;33m         \u001b[1;32mreturn\u001b[0m \u001b[0mmana\u001b[0m \u001b[1;32min\u001b[0m \u001b[0mself\u001b[0m\u001b[1;33m.\u001b[0m\u001b[0mmana\u001b[0m\u001b[1;33m\u001b[0m\u001b[0m\n\u001b[0m\u001b[0;32m    136\u001b[0m \u001b[1;33m\u001b[0m\u001b[0m\n\u001b[0;32m    137\u001b[0m     \u001b[1;32mdef\u001b[0m \u001b[0m__repr__\u001b[0m\u001b[1;33m(\u001b[0m\u001b[0mself\u001b[0m\u001b[1;33m)\u001b[0m\u001b[1;33m:\u001b[0m\u001b[1;33m\u001b[0m\u001b[0m\n",
      "\u001b[1;31mTypeError\u001b[0m: unhashable type: 'Counter'"
     ]
    }
   ],
   "source": [
    "card = Card([Mana('G')])\n",
    "mana_pool = ManaPool()\n",
    "mana_pool += 'G'\n",
    "print(card, mana_pool, card.is_playable(mana_pool))"
   ]
  },
  {
   "cell_type": "code",
   "execution_count": 337,
   "metadata": {},
   "outputs": [],
   "source": [
    "c = Counter({Mana('G') : 1})"
   ]
  },
  {
   "cell_type": "code",
   "execution_count": 338,
   "metadata": {},
   "outputs": [
    {
     "data": {
      "text/plain": [
       "Counter({Mana(G): 1})"
      ]
     },
     "execution_count": 338,
     "metadata": {},
     "output_type": "execute_result"
    }
   ],
   "source": [
    "c"
   ]
  },
  {
   "cell_type": "code",
   "execution_count": 339,
   "metadata": {},
   "outputs": [
    {
     "data": {
      "text/plain": [
       "True"
      ]
     },
     "execution_count": 339,
     "metadata": {},
     "output_type": "execute_result"
    }
   ],
   "source": [
    "Mana('G') in c"
   ]
  },
  {
   "cell_type": "code",
   "execution_count": null,
   "metadata": {},
   "outputs": [],
   "source": []
  },
  {
   "cell_type": "markdown",
   "metadata": {},
   "source": [
    "## Run 100,000 Experiments of draws"
   ]
  },
  {
   "cell_type": "code",
   "execution_count": null,
   "metadata": {},
   "outputs": [],
   "source": []
  },
  {
   "cell_type": "code",
   "execution_count": null,
   "metadata": {},
   "outputs": [],
   "source": []
  },
  {
   "cell_type": "code",
   "execution_count": null,
   "metadata": {},
   "outputs": [],
   "source": []
  },
  {
   "cell_type": "code",
   "execution_count": null,
   "metadata": {},
   "outputs": [],
   "source": []
  },
  {
   "cell_type": "code",
   "execution_count": 30,
   "metadata": {},
   "outputs": [],
   "source": [
    "from collections import Counter"
   ]
  },
  {
   "cell_type": "code",
   "execution_count": 39,
   "metadata": {},
   "outputs": [],
   "source": [
    "mana = Counter([x for x in 'WWUUG'])"
   ]
  },
  {
   "cell_type": "code",
   "execution_count": 40,
   "metadata": {},
   "outputs": [],
   "source": [
    "cost = Counter([x for x in 'WWU'])"
   ]
  },
  {
   "cell_type": "code",
   "execution_count": 41,
   "metadata": {},
   "outputs": [
    {
     "data": {
      "text/plain": [
       "(Counter({'W': 2, 'U': 2, 'G': 1}), Counter({'W': 2, 'U': 1}))"
      ]
     },
     "execution_count": 41,
     "metadata": {},
     "output_type": "execute_result"
    }
   ],
   "source": [
    "mana, cost"
   ]
  },
  {
   "cell_type": "code",
   "execution_count": 51,
   "metadata": {},
   "outputs": [
    {
     "data": {
      "text/plain": [
       "Counter()"
      ]
     },
     "execution_count": 51,
     "metadata": {},
     "output_type": "execute_result"
    }
   ],
   "source": [
    "cost - mana"
   ]
  },
  {
   "cell_type": "code",
   "execution_count": 52,
   "metadata": {},
   "outputs": [
    {
     "name": "stdout",
     "output_type": "stream",
     "text": [
      "Playable\n"
     ]
    }
   ],
   "source": [
    "if not cost - mana:\n",
    "    print('Playable')\n",
    "else:\n",
    "    print('No playable')"
   ]
  },
  {
   "cell_type": "code",
   "execution_count": 152,
   "metadata": {},
   "outputs": [],
   "source": [
    "mana -= Counter('W')"
   ]
  },
  {
   "cell_type": "code",
   "execution_count": 153,
   "metadata": {},
   "outputs": [
    {
     "data": {
      "text/plain": [
       "Counter({'U': 2, 'G': 1})"
      ]
     },
     "execution_count": 153,
     "metadata": {},
     "output_type": "execute_result"
    }
   ],
   "source": [
    "mana"
   ]
  },
  {
   "cell_type": "code",
   "execution_count": 58,
   "metadata": {},
   "outputs": [
    {
     "data": {
      "text/plain": [
       "True"
      ]
     },
     "execution_count": 58,
     "metadata": {},
     "output_type": "execute_result"
    }
   ],
   "source": [
    "isinstance('a', str)"
   ]
  },
  {
   "cell_type": "code",
   "execution_count": null,
   "metadata": {},
   "outputs": [],
   "source": []
  }
 ],
 "metadata": {
  "kernelspec": {
   "display_name": "Python 3",
   "language": "python",
   "name": "python3"
  },
  "language_info": {
   "codemirror_mode": {
    "name": "ipython",
    "version": 3
   },
   "file_extension": ".py",
   "mimetype": "text/x-python",
   "name": "python",
   "nbconvert_exporter": "python",
   "pygments_lexer": "ipython3",
   "version": "3.6.0"
  }
 },
 "nbformat": 4,
 "nbformat_minor": 2
}
